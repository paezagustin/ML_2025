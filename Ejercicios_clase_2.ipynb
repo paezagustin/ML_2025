{
  "cells": [
    {
      "cell_type": "markdown",
      "metadata": {
        "id": "RN3pnFLjs0oB"
      },
      "source": [
        "# Ejercicio 1"
      ]
    },
    {
      "cell_type": "code",
      "execution_count": 1,
      "metadata": {
        "id": "H5SOgzIWglvo"
      },
      "outputs": [],
      "source": [
        "import pandas as pd\n",
        "from matplotlib import pyplot as plt\n",
        "import plotly.express as px\n",
        "import numpy as np"
      ]
    },
    {
      "cell_type": "code",
      "execution_count": 2,
      "metadata": {
        "id": "6xrnPFrgjRJz"
      },
      "outputs": [],
      "source": [
        "casos_ruta_archivo = 'datos\\casos_covid_bahia.csv'\n",
        "camas_ruta = 'datos\\camas_covid_bahia.csv'\n",
        "df_casos = pd.read_csv(casos_ruta_archivo)\n",
        "df_camas = pd.read_csv(camas_ruta)"
      ]
    },
    {
      "cell_type": "code",
      "execution_count": 10,
      "metadata": {},
      "outputs": [
        {
          "data": {
            "text/html": [
              "<div>\n",
              "<style scoped>\n",
              "    .dataframe tbody tr th:only-of-type {\n",
              "        vertical-align: middle;\n",
              "    }\n",
              "\n",
              "    .dataframe tbody tr th {\n",
              "        vertical-align: top;\n",
              "    }\n",
              "\n",
              "    .dataframe thead th {\n",
              "        text-align: right;\n",
              "    }\n",
              "</style>\n",
              "<table border=\"1\" class=\"dataframe\">\n",
              "  <thead>\n",
              "    <tr style=\"text-align: right;\">\n",
              "      <th></th>\n",
              "      <th>fecha</th>\n",
              "      <th>confirmados</th>\n",
              "      <th>activos</th>\n",
              "      <th>recuperados</th>\n",
              "      <th>decesos</th>\n",
              "      <th>descartados</th>\n",
              "      <th>sospechosos</th>\n",
              "      <th>contencion_psicologica</th>\n",
              "      <th>monitoreo_epidemiologico</th>\n",
              "      <th>aislamiento_por_contacto_estrecho</th>\n",
              "      <th>aprehendidos</th>\n",
              "    </tr>\n",
              "  </thead>\n",
              "  <tbody>\n",
              "    <tr>\n",
              "      <th>0</th>\n",
              "      <td>2020-06-30</td>\n",
              "      <td>106</td>\n",
              "      <td>29</td>\n",
              "      <td>71</td>\n",
              "      <td>6</td>\n",
              "      <td>574</td>\n",
              "      <td>23</td>\n",
              "      <td>342</td>\n",
              "      <td>2338</td>\n",
              "      <td>181</td>\n",
              "      <td>0</td>\n",
              "    </tr>\n",
              "    <tr>\n",
              "      <th>1</th>\n",
              "      <td>2020-07-01</td>\n",
              "      <td>114</td>\n",
              "      <td>31</td>\n",
              "      <td>77</td>\n",
              "      <td>6</td>\n",
              "      <td>581</td>\n",
              "      <td>22</td>\n",
              "      <td>342</td>\n",
              "      <td>2207</td>\n",
              "      <td>172</td>\n",
              "      <td>0</td>\n",
              "    </tr>\n",
              "    <tr>\n",
              "      <th>2</th>\n",
              "      <td>2020-07-02</td>\n",
              "      <td>124</td>\n",
              "      <td>40</td>\n",
              "      <td>78</td>\n",
              "      <td>6</td>\n",
              "      <td>588</td>\n",
              "      <td>24</td>\n",
              "      <td>356</td>\n",
              "      <td>2162</td>\n",
              "      <td>176</td>\n",
              "      <td>0</td>\n",
              "    </tr>\n",
              "    <tr>\n",
              "      <th>3</th>\n",
              "      <td>2020-07-03</td>\n",
              "      <td>137</td>\n",
              "      <td>53</td>\n",
              "      <td>78</td>\n",
              "      <td>6</td>\n",
              "      <td>606</td>\n",
              "      <td>31</td>\n",
              "      <td>356</td>\n",
              "      <td>2353</td>\n",
              "      <td>190</td>\n",
              "      <td>0</td>\n",
              "    </tr>\n",
              "    <tr>\n",
              "      <th>4</th>\n",
              "      <td>2020-07-04</td>\n",
              "      <td>154</td>\n",
              "      <td>70</td>\n",
              "      <td>78</td>\n",
              "      <td>6</td>\n",
              "      <td>622</td>\n",
              "      <td>31</td>\n",
              "      <td>356</td>\n",
              "      <td>2377</td>\n",
              "      <td>214</td>\n",
              "      <td>0</td>\n",
              "    </tr>\n",
              "    <tr>\n",
              "      <th>...</th>\n",
              "      <td>...</td>\n",
              "      <td>...</td>\n",
              "      <td>...</td>\n",
              "      <td>...</td>\n",
              "      <td>...</td>\n",
              "      <td>...</td>\n",
              "      <td>...</td>\n",
              "      <td>...</td>\n",
              "      <td>...</td>\n",
              "      <td>...</td>\n",
              "      <td>...</td>\n",
              "    </tr>\n",
              "    <tr>\n",
              "      <th>83</th>\n",
              "      <td>2020-09-21</td>\n",
              "      <td>2589</td>\n",
              "      <td>1319</td>\n",
              "      <td>1209</td>\n",
              "      <td>61</td>\n",
              "      <td>3557</td>\n",
              "      <td>303</td>\n",
              "      <td>417</td>\n",
              "      <td>1261</td>\n",
              "      <td>510</td>\n",
              "      <td>0</td>\n",
              "    </tr>\n",
              "    <tr>\n",
              "      <th>84</th>\n",
              "      <td>2020-09-22</td>\n",
              "      <td>2714</td>\n",
              "      <td>1371</td>\n",
              "      <td>1282</td>\n",
              "      <td>61</td>\n",
              "      <td>3615</td>\n",
              "      <td>292</td>\n",
              "      <td>417</td>\n",
              "      <td>1197</td>\n",
              "      <td>554</td>\n",
              "      <td>0</td>\n",
              "    </tr>\n",
              "    <tr>\n",
              "      <th>85</th>\n",
              "      <td>2020-09-23</td>\n",
              "      <td>2841</td>\n",
              "      <td>1464</td>\n",
              "      <td>1313</td>\n",
              "      <td>64</td>\n",
              "      <td>3658</td>\n",
              "      <td>286</td>\n",
              "      <td>417</td>\n",
              "      <td>1206</td>\n",
              "      <td>562</td>\n",
              "      <td>0</td>\n",
              "    </tr>\n",
              "    <tr>\n",
              "      <th>86</th>\n",
              "      <td>2020-09-24</td>\n",
              "      <td>2906</td>\n",
              "      <td>1474</td>\n",
              "      <td>1366</td>\n",
              "      <td>66</td>\n",
              "      <td>3682</td>\n",
              "      <td>331</td>\n",
              "      <td>417</td>\n",
              "      <td>1221</td>\n",
              "      <td>562</td>\n",
              "      <td>0</td>\n",
              "    </tr>\n",
              "    <tr>\n",
              "      <th>87</th>\n",
              "      <td>2020-09-25</td>\n",
              "      <td>3012</td>\n",
              "      <td>1512</td>\n",
              "      <td>1434</td>\n",
              "      <td>66</td>\n",
              "      <td>3738</td>\n",
              "      <td>298</td>\n",
              "      <td>417</td>\n",
              "      <td>1168</td>\n",
              "      <td>625</td>\n",
              "      <td>0</td>\n",
              "    </tr>\n",
              "  </tbody>\n",
              "</table>\n",
              "<p>88 rows × 11 columns</p>\n",
              "</div>"
            ],
            "text/plain": [
              "         fecha  confirmados  activos  recuperados  decesos  descartados  \\\n",
              "0   2020-06-30          106       29           71        6          574   \n",
              "1   2020-07-01          114       31           77        6          581   \n",
              "2   2020-07-02          124       40           78        6          588   \n",
              "3   2020-07-03          137       53           78        6          606   \n",
              "4   2020-07-04          154       70           78        6          622   \n",
              "..         ...          ...      ...          ...      ...          ...   \n",
              "83  2020-09-21         2589     1319         1209       61         3557   \n",
              "84  2020-09-22         2714     1371         1282       61         3615   \n",
              "85  2020-09-23         2841     1464         1313       64         3658   \n",
              "86  2020-09-24         2906     1474         1366       66         3682   \n",
              "87  2020-09-25         3012     1512         1434       66         3738   \n",
              "\n",
              "    sospechosos  contencion_psicologica  monitoreo_epidemiologico  \\\n",
              "0            23                     342                      2338   \n",
              "1            22                     342                      2207   \n",
              "2            24                     356                      2162   \n",
              "3            31                     356                      2353   \n",
              "4            31                     356                      2377   \n",
              "..          ...                     ...                       ...   \n",
              "83          303                     417                      1261   \n",
              "84          292                     417                      1197   \n",
              "85          286                     417                      1206   \n",
              "86          331                     417                      1221   \n",
              "87          298                     417                      1168   \n",
              "\n",
              "    aislamiento_por_contacto_estrecho  aprehendidos  \n",
              "0                                 181             0  \n",
              "1                                 172             0  \n",
              "2                                 176             0  \n",
              "3                                 190             0  \n",
              "4                                 214             0  \n",
              "..                                ...           ...  \n",
              "83                                510             0  \n",
              "84                                554             0  \n",
              "85                                562             0  \n",
              "86                                562             0  \n",
              "87                                625             0  \n",
              "\n",
              "[88 rows x 11 columns]"
            ]
          },
          "execution_count": 10,
          "metadata": {},
          "output_type": "execute_result"
        }
      ],
      "source": [
        "df_casos"
      ]
    },
    {
      "cell_type": "code",
      "execution_count": 11,
      "metadata": {
        "colab": {
          "base_uri": "https://localhost:8080/",
          "height": 617
        },
        "id": "ih05eLnZjkRR",
        "outputId": "12b9e49f-29c5-4b8c-cbaa-08854c1bb88e"
      },
      "outputs": [
        {
          "data": {
            "text/html": [
              "<div>\n",
              "<style scoped>\n",
              "    .dataframe tbody tr th:only-of-type {\n",
              "        vertical-align: middle;\n",
              "    }\n",
              "\n",
              "    .dataframe tbody tr th {\n",
              "        vertical-align: top;\n",
              "    }\n",
              "\n",
              "    .dataframe thead th {\n",
              "        text-align: right;\n",
              "    }\n",
              "</style>\n",
              "<table border=\"1\" class=\"dataframe\">\n",
              "  <thead>\n",
              "    <tr style=\"text-align: right;\">\n",
              "      <th></th>\n",
              "      <th>informeNumero</th>\n",
              "      <th>fecha</th>\n",
              "      <th>total_camas_hospitales</th>\n",
              "      <th>camas_ocupadas_hospitales</th>\n",
              "      <th>porcentaje_ocupacion_camas_hospitales</th>\n",
              "      <th>camas_covid</th>\n",
              "      <th>camas_sospechosos_covid</th>\n",
              "      <th>camas_confirmados_covid</th>\n",
              "      <th>porcentaje_ocupacion_camas_covid</th>\n",
              "      <th>uti_covid_totales</th>\n",
              "      <th>uti_covid_ocupadas</th>\n",
              "      <th>respiradores_totales</th>\n",
              "      <th>respiradores_ocupados</th>\n",
              "      <th>respiradores_covid_totales</th>\n",
              "      <th>respiradores_covid_ocupados</th>\n",
              "      <th>total_camas_ucma</th>\n",
              "      <th>total_camas_ocupadas_ucma</th>\n",
              "      <th>sedes_ucma</th>\n",
              "      <th>observaciones</th>\n",
              "    </tr>\n",
              "  </thead>\n",
              "  <tbody>\n",
              "    <tr>\n",
              "      <th>0</th>\n",
              "      <td>131</td>\n",
              "      <td>2020-09-25</td>\n",
              "      <td>848</td>\n",
              "      <td>401</td>\n",
              "      <td>47</td>\n",
              "      <td>163</td>\n",
              "      <td>42</td>\n",
              "      <td>84</td>\n",
              "      <td>77</td>\n",
              "      <td>32</td>\n",
              "      <td>24</td>\n",
              "      <td>142</td>\n",
              "      <td>41</td>\n",
              "      <td>69</td>\n",
              "      <td>25</td>\n",
              "      <td>147</td>\n",
              "      <td>19</td>\n",
              "      <td>4</td>\n",
              "      <td>NaN</td>\n",
              "    </tr>\n",
              "    <tr>\n",
              "      <th>1</th>\n",
              "      <td>130</td>\n",
              "      <td>2020-09-24</td>\n",
              "      <td>848</td>\n",
              "      <td>391</td>\n",
              "      <td>46</td>\n",
              "      <td>163</td>\n",
              "      <td>25</td>\n",
              "      <td>86</td>\n",
              "      <td>68</td>\n",
              "      <td>32</td>\n",
              "      <td>17</td>\n",
              "      <td>142</td>\n",
              "      <td>39</td>\n",
              "      <td>69</td>\n",
              "      <td>21</td>\n",
              "      <td>147</td>\n",
              "      <td>21</td>\n",
              "      <td>4</td>\n",
              "      <td>NaN</td>\n",
              "    </tr>\n",
              "    <tr>\n",
              "      <th>2</th>\n",
              "      <td>129</td>\n",
              "      <td>2020-09-23</td>\n",
              "      <td>848</td>\n",
              "      <td>402</td>\n",
              "      <td>47</td>\n",
              "      <td>163</td>\n",
              "      <td>21</td>\n",
              "      <td>85</td>\n",
              "      <td>65</td>\n",
              "      <td>32</td>\n",
              "      <td>22</td>\n",
              "      <td>142</td>\n",
              "      <td>42</td>\n",
              "      <td>71</td>\n",
              "      <td>23</td>\n",
              "      <td>147</td>\n",
              "      <td>19</td>\n",
              "      <td>4</td>\n",
              "      <td>NaN</td>\n",
              "    </tr>\n",
              "    <tr>\n",
              "      <th>3</th>\n",
              "      <td>128</td>\n",
              "      <td>2020-09-22</td>\n",
              "      <td>848</td>\n",
              "      <td>391</td>\n",
              "      <td>46</td>\n",
              "      <td>163</td>\n",
              "      <td>30</td>\n",
              "      <td>83</td>\n",
              "      <td>69</td>\n",
              "      <td>32</td>\n",
              "      <td>21</td>\n",
              "      <td>142</td>\n",
              "      <td>43</td>\n",
              "      <td>72</td>\n",
              "      <td>24</td>\n",
              "      <td>147</td>\n",
              "      <td>15</td>\n",
              "      <td>4</td>\n",
              "      <td>NaN</td>\n",
              "    </tr>\n",
              "    <tr>\n",
              "      <th>4</th>\n",
              "      <td>127</td>\n",
              "      <td>2020-09-21</td>\n",
              "      <td>848</td>\n",
              "      <td>368</td>\n",
              "      <td>43</td>\n",
              "      <td>163</td>\n",
              "      <td>32</td>\n",
              "      <td>82</td>\n",
              "      <td>69</td>\n",
              "      <td>32</td>\n",
              "      <td>24</td>\n",
              "      <td>142</td>\n",
              "      <td>40</td>\n",
              "      <td>72</td>\n",
              "      <td>24</td>\n",
              "      <td>147</td>\n",
              "      <td>10</td>\n",
              "      <td>4</td>\n",
              "      <td>NaN</td>\n",
              "    </tr>\n",
              "    <tr>\n",
              "      <th>...</th>\n",
              "      <td>...</td>\n",
              "      <td>...</td>\n",
              "      <td>...</td>\n",
              "      <td>...</td>\n",
              "      <td>...</td>\n",
              "      <td>...</td>\n",
              "      <td>...</td>\n",
              "      <td>...</td>\n",
              "      <td>...</td>\n",
              "      <td>...</td>\n",
              "      <td>...</td>\n",
              "      <td>...</td>\n",
              "      <td>...</td>\n",
              "      <td>...</td>\n",
              "      <td>...</td>\n",
              "      <td>...</td>\n",
              "      <td>...</td>\n",
              "      <td>...</td>\n",
              "      <td>...</td>\n",
              "    </tr>\n",
              "    <tr>\n",
              "      <th>83</th>\n",
              "      <td>10</td>\n",
              "      <td>2020-07-04</td>\n",
              "      <td>848</td>\n",
              "      <td>343</td>\n",
              "      <td>40</td>\n",
              "      <td>155</td>\n",
              "      <td>14</td>\n",
              "      <td>14</td>\n",
              "      <td>18</td>\n",
              "      <td>32</td>\n",
              "      <td>3</td>\n",
              "      <td>143</td>\n",
              "      <td>22</td>\n",
              "      <td>0</td>\n",
              "      <td>0</td>\n",
              "      <td>137</td>\n",
              "      <td>0</td>\n",
              "      <td>3</td>\n",
              "      <td>NaN</td>\n",
              "    </tr>\n",
              "    <tr>\n",
              "      <th>84</th>\n",
              "      <td>9</td>\n",
              "      <td>2020-07-03</td>\n",
              "      <td>848</td>\n",
              "      <td>349</td>\n",
              "      <td>41</td>\n",
              "      <td>155</td>\n",
              "      <td>18</td>\n",
              "      <td>13</td>\n",
              "      <td>20</td>\n",
              "      <td>32</td>\n",
              "      <td>4</td>\n",
              "      <td>143</td>\n",
              "      <td>25</td>\n",
              "      <td>0</td>\n",
              "      <td>0</td>\n",
              "      <td>137</td>\n",
              "      <td>0</td>\n",
              "      <td>3</td>\n",
              "      <td>NaN</td>\n",
              "    </tr>\n",
              "    <tr>\n",
              "      <th>85</th>\n",
              "      <td>8</td>\n",
              "      <td>2020-07-02</td>\n",
              "      <td>848</td>\n",
              "      <td>358</td>\n",
              "      <td>42</td>\n",
              "      <td>155</td>\n",
              "      <td>14</td>\n",
              "      <td>14</td>\n",
              "      <td>18</td>\n",
              "      <td>32</td>\n",
              "      <td>4</td>\n",
              "      <td>143</td>\n",
              "      <td>25</td>\n",
              "      <td>0</td>\n",
              "      <td>0</td>\n",
              "      <td>137</td>\n",
              "      <td>0</td>\n",
              "      <td>3</td>\n",
              "      <td>NaN</td>\n",
              "    </tr>\n",
              "    <tr>\n",
              "      <th>86</th>\n",
              "      <td>7</td>\n",
              "      <td>2020-07-01</td>\n",
              "      <td>848</td>\n",
              "      <td>386</td>\n",
              "      <td>45</td>\n",
              "      <td>155</td>\n",
              "      <td>12</td>\n",
              "      <td>12</td>\n",
              "      <td>15</td>\n",
              "      <td>32</td>\n",
              "      <td>2</td>\n",
              "      <td>143</td>\n",
              "      <td>24</td>\n",
              "      <td>0</td>\n",
              "      <td>0</td>\n",
              "      <td>137</td>\n",
              "      <td>0</td>\n",
              "      <td>3</td>\n",
              "      <td>NaN</td>\n",
              "    </tr>\n",
              "    <tr>\n",
              "      <th>87</th>\n",
              "      <td>1</td>\n",
              "      <td>2020-06-30</td>\n",
              "      <td>848</td>\n",
              "      <td>347</td>\n",
              "      <td>40</td>\n",
              "      <td>155</td>\n",
              "      <td>15</td>\n",
              "      <td>10</td>\n",
              "      <td>16</td>\n",
              "      <td>32</td>\n",
              "      <td>1</td>\n",
              "      <td>143</td>\n",
              "      <td>23</td>\n",
              "      <td>0</td>\n",
              "      <td>0</td>\n",
              "      <td>137</td>\n",
              "      <td>0</td>\n",
              "      <td>3</td>\n",
              "      <td>NaN</td>\n",
              "    </tr>\n",
              "  </tbody>\n",
              "</table>\n",
              "<p>88 rows × 19 columns</p>\n",
              "</div>"
            ],
            "text/plain": [
              "    informeNumero       fecha  total_camas_hospitales  \\\n",
              "0             131  2020-09-25                     848   \n",
              "1             130  2020-09-24                     848   \n",
              "2             129  2020-09-23                     848   \n",
              "3             128  2020-09-22                     848   \n",
              "4             127  2020-09-21                     848   \n",
              "..            ...         ...                     ...   \n",
              "83             10  2020-07-04                     848   \n",
              "84              9  2020-07-03                     848   \n",
              "85              8  2020-07-02                     848   \n",
              "86              7  2020-07-01                     848   \n",
              "87              1  2020-06-30                     848   \n",
              "\n",
              "    camas_ocupadas_hospitales  porcentaje_ocupacion_camas_hospitales  \\\n",
              "0                         401                                     47   \n",
              "1                         391                                     46   \n",
              "2                         402                                     47   \n",
              "3                         391                                     46   \n",
              "4                         368                                     43   \n",
              "..                        ...                                    ...   \n",
              "83                        343                                     40   \n",
              "84                        349                                     41   \n",
              "85                        358                                     42   \n",
              "86                        386                                     45   \n",
              "87                        347                                     40   \n",
              "\n",
              "    camas_covid  camas_sospechosos_covid  camas_confirmados_covid  \\\n",
              "0           163                       42                       84   \n",
              "1           163                       25                       86   \n",
              "2           163                       21                       85   \n",
              "3           163                       30                       83   \n",
              "4           163                       32                       82   \n",
              "..          ...                      ...                      ...   \n",
              "83          155                       14                       14   \n",
              "84          155                       18                       13   \n",
              "85          155                       14                       14   \n",
              "86          155                       12                       12   \n",
              "87          155                       15                       10   \n",
              "\n",
              "    porcentaje_ocupacion_camas_covid  uti_covid_totales  uti_covid_ocupadas  \\\n",
              "0                                 77                 32                  24   \n",
              "1                                 68                 32                  17   \n",
              "2                                 65                 32                  22   \n",
              "3                                 69                 32                  21   \n",
              "4                                 69                 32                  24   \n",
              "..                               ...                ...                 ...   \n",
              "83                                18                 32                   3   \n",
              "84                                20                 32                   4   \n",
              "85                                18                 32                   4   \n",
              "86                                15                 32                   2   \n",
              "87                                16                 32                   1   \n",
              "\n",
              "    respiradores_totales  respiradores_ocupados  respiradores_covid_totales  \\\n",
              "0                    142                     41                          69   \n",
              "1                    142                     39                          69   \n",
              "2                    142                     42                          71   \n",
              "3                    142                     43                          72   \n",
              "4                    142                     40                          72   \n",
              "..                   ...                    ...                         ...   \n",
              "83                   143                     22                           0   \n",
              "84                   143                     25                           0   \n",
              "85                   143                     25                           0   \n",
              "86                   143                     24                           0   \n",
              "87                   143                     23                           0   \n",
              "\n",
              "    respiradores_covid_ocupados  total_camas_ucma  total_camas_ocupadas_ucma  \\\n",
              "0                            25               147                         19   \n",
              "1                            21               147                         21   \n",
              "2                            23               147                         19   \n",
              "3                            24               147                         15   \n",
              "4                            24               147                         10   \n",
              "..                          ...               ...                        ...   \n",
              "83                            0               137                          0   \n",
              "84                            0               137                          0   \n",
              "85                            0               137                          0   \n",
              "86                            0               137                          0   \n",
              "87                            0               137                          0   \n",
              "\n",
              "    sedes_ucma observaciones  \n",
              "0            4           NaN  \n",
              "1            4           NaN  \n",
              "2            4           NaN  \n",
              "3            4           NaN  \n",
              "4            4           NaN  \n",
              "..         ...           ...  \n",
              "83           3           NaN  \n",
              "84           3           NaN  \n",
              "85           3           NaN  \n",
              "86           3           NaN  \n",
              "87           3           NaN  \n",
              "\n",
              "[88 rows x 19 columns]"
            ]
          },
          "execution_count": 11,
          "metadata": {},
          "output_type": "execute_result"
        }
      ],
      "source": [
        "df_camas"
      ]
    },
    {
      "cell_type": "code",
      "execution_count": 3,
      "metadata": {
        "cellView": "form",
        "colab": {
          "base_uri": "https://localhost:8080/",
          "height": 452
        },
        "id": "dbb_nmBArT1W",
        "outputId": "986afeb9-90b2-42e9-89cd-4c2c991be20b"
      },
      "outputs": [
        {
          "data": {
            "text/plain": [
              "<matplotlib.axes._subplots.AxesSubplot at 0x20abbb212b0>"
            ]
          },
          "execution_count": 3,
          "metadata": {},
          "output_type": "execute_result"
        },
        {
          "data": {
            "image/png": "[encoded data removed]",
            "text/plain": [
              "<Figure size 640x480 with 1 Axes>"
            ]
          },
          "metadata": {},
          "output_type": "display_data"
        }
      ],
      "source": [
        "df_camas['informeNumero'].plot(kind='hist', bins=20, title='informeNumero',xlabel = ' informeNumero')"
      ]
    },
    {
      "cell_type": "code",
      "execution_count": 13,
      "metadata": {},
      "outputs": [
        {
          "data": {
            "text/plain": [
              "<matplotlib.axes._subplots.AxesSubplot at 0x2380257ae20>"
            ]
          },
          "execution_count": 13,
          "metadata": {},
          "output_type": "execute_result"
        },
        {
          "data": {
            "image/png": "[encoded data removed]",
            "text/plain": [
              "<Figure size 640x480 with 1 Axes>"
            ]
          },
          "metadata": {},
          "output_type": "display_data"
        }
      ],
      "source": [
        "df_camas['camas_covid'].plot(kind='hist', bins=20, title='informeNumero',xlabel = ' informeNumero')"
      ]
    },
    {
      "cell_type": "code",
      "execution_count": 7,
      "metadata": {},
      "outputs": [
        {
          "data": {
            "text/plain": [
              "0       71\n",
              "1       77\n",
              "2       78\n",
              "3       78\n",
              "4       78\n",
              "      ... \n",
              "83    1209\n",
              "84    1282\n",
              "85    1313\n",
              "86    1366\n",
              "87    1434\n",
              "Name: recuperados, Length: 88, dtype: int64"
            ]
          },
          "execution_count": 7,
          "metadata": {},
          "output_type": "execute_result"
        }
      ],
      "source": [
        "df_casos.recuperados"
      ]
    },
    {
      "cell_type": "code",
      "execution_count": 4,
      "metadata": {},
      "outputs": [],
      "source": [
        "counts,bins = np.histogram(df_casos.recuperados,bins = range(0,60,5))\n",
        "bins = 0.5 * (bins[:-1] + bins[1:])"
      ]
    },
    {
      "cell_type": "code",
      "execution_count": 6,
      "metadata": {},
      "outputs": [
        {
          "data": {
            "text/plain": [
              "array([0, 0, 0, 0, 0, 0, 0, 0, 0, 0, 0], dtype=int64)"
            ]
          },
          "execution_count": 6,
          "metadata": {},
          "output_type": "execute_result"
        }
      ],
      "source": [
        "counts"
      ]
    },
    {
      "cell_type": "code",
      "execution_count": 5,
      "metadata": {},
      "outputs": [
        {
          "data": {
            "application/vnd.plotly.v1+json": {
              "config": {
                "plotlyServerURL": "https://plot.ly"
              },
              "data": [
                {
                  "hovertemplate": "recuperados=%{x}<br>count=%{y}<extra></extra>",
                  "legendgroup": "",
                  "marker": {
                    "color": "#636efa",
                    "pattern": {
                      "shape": ""
                    }
                  },
                  "name": "",
                  "orientation": "v",
                  "showlegend": false,
                  "textposition": "auto",
                  "type": "bar",
                  "x": {
                    "bdata": "AAAAAAAABEAAAAAAAAAeQAAAAAAAAClAAAAAAACAMUAAAAAAAIA2QAAAAAAAgDtAAAAAAABAQEAAAAAAAMBCQAAAAAAAQEVAAAAAAADAR0AAAAAAAEBKQA==",
                    "dtype": "f8"
                  },
                  "xaxis": "x",
                  "y": {
                    "bdata": "AAAAAAAAAAAAAAA=",
                    "dtype": "i1"
                  },
                  "yaxis": "y"
                }
              ],
              "layout": {
                "barmode": "relative",
                "legend": {
                  "tracegroupgap": 0
                },
                "margin": {
                  "t": 60
                },
                "template": {
                  "data": {
                    "bar": [
                      {
                        "error_x": {
                          "color": "#2a3f5f"
                        },
                        "error_y": {
                          "color": "#2a3f5f"
                        },
                        "marker": {
                          "line": {
                            "color": "#E5ECF6",
                            "width": 0.5
                          },
                          "pattern": {
                            "fillmode": "overlay",
                            "size": 10,
                            "solidity": 0.2
                          }
                        },
                        "type": "bar"
                      }
                    ],
                    "barpolar": [
                      {
                        "marker": {
                          "line": {
                            "color": "#E5ECF6",
                            "width": 0.5
                          },
                          "pattern": {
                            "fillmode": "overlay",
                            "size": 10,
                            "solidity": 0.2
                          }
                        },
                        "type": "barpolar"
                      }
                    ],
                    "carpet": [
                      {
                        "aaxis": {
                          "endlinecolor": "#2a3f5f",
                          "gridcolor": "white",
                          "linecolor": "white",
                          "minorgridcolor": "white",
                          "startlinecolor": "#2a3f5f"
                        },
                        "baxis": {
                          "endlinecolor": "#2a3f5f",
                          "gridcolor": "white",
                          "linecolor": "white",
                          "minorgridcolor": "white",
                          "startlinecolor": "#2a3f5f"
                        },
                        "type": "carpet"
                      }
                    ],
                    "choropleth": [
                      {
                        "colorbar": {
                          "outlinewidth": 0,
                          "ticks": ""
                        },
                        "type": "choropleth"
                      }
                    ],
                    "contour": [
                      {
                        "colorbar": {
                          "outlinewidth": 0,
                          "ticks": ""
                        },
                        "colorscale": [
                          [
                            0,
                            "#0d0887"
                          ],
                          [
                            0.1111111111111111,
                            "#46039f"
                          ],
                          [
                            0.2222222222222222,
                            "#7201a8"
                          ],
                          [
                            0.3333333333333333,
                            "#9c179e"
                          ],
                          [
                            0.4444444444444444,
                            "#bd3786"
                          ],
                          [
                            0.5555555555555556,
                            "#d8576b"
                          ],
                          [
                            0.6666666666666666,
                            "#ed7953"
                          ],
                          [
                            0.7777777777777778,
                            "#fb9f3a"
                          ],
                          [
                            0.8888888888888888,
                            "#fdca26"
                          ],
                          [
                            1,
                            "#f0f921"
                          ]
                        ],
                        "type": "contour"
                      }
                    ],
                    "contourcarpet": [
                      {
                        "colorbar": {
                          "outlinewidth": 0,
                          "ticks": ""
                        },
                        "type": "contourcarpet"
                      }
                    ],
                    "heatmap": [
                      {
                        "colorbar": {
                          "outlinewidth": 0,
                          "ticks": ""
                        },
                        "colorscale": [
                          [
                            0,
                            "#0d0887"
                          ],
                          [
                            0.1111111111111111,
                            "#46039f"
                          ],
                          [
                            0.2222222222222222,
                            "#7201a8"
                          ],
                          [
                            0.3333333333333333,
                            "#9c179e"
                          ],
                          [
                            0.4444444444444444,
                            "#bd3786"
                          ],
                          [
                            0.5555555555555556,
                            "#d8576b"
                          ],
                          [
                            0.6666666666666666,
                            "#ed7953"
                          ],
                          [
                            0.7777777777777778,
                            "#fb9f3a"
                          ],
                          [
                            0.8888888888888888,
                            "#fdca26"
                          ],
                          [
                            1,
                            "#f0f921"
                          ]
                        ],
                        "type": "heatmap"
                      }
                    ],
                    "histogram": [
                      {
                        "marker": {
                          "pattern": {
                            "fillmode": "overlay",
                            "size": 10,
                            "solidity": 0.2
                          }
                        },
                        "type": "histogram"
                      }
                    ],
                    "histogram2d": [
                      {
                        "colorbar": {
                          "outlinewidth": 0,
                          "ticks": ""
                        },
                        "colorscale": [
                          [
                            0,
                            "#0d0887"
                          ],
                          [
                            0.1111111111111111,
                            "#46039f"
                          ],
                          [
                            0.2222222222222222,
                            "#7201a8"
                          ],
                          [
                            0.3333333333333333,
                            "#9c179e"
                          ],
                          [
                            0.4444444444444444,
                            "#bd3786"
                          ],
                          [
                            0.5555555555555556,
                            "#d8576b"
                          ],
                          [
                            0.6666666666666666,
                            "#ed7953"
                          ],
                          [
                            0.7777777777777778,
                            "#fb9f3a"
                          ],
                          [
                            0.8888888888888888,
                            "#fdca26"
                          ],
                          [
                            1,
                            "#f0f921"
                          ]
                        ],
                        "type": "histogram2d"
                      }
                    ],
                    "histogram2dcontour": [
                      {
                        "colorbar": {
                          "outlinewidth": 0,
                          "ticks": ""
                        },
                        "colorscale": [
                          [
                            0,
                            "#0d0887"
                          ],
                          [
                            0.1111111111111111,
                            "#46039f"
                          ],
                          [
                            0.2222222222222222,
                            "#7201a8"
                          ],
                          [
                            0.3333333333333333,
                            "#9c179e"
                          ],
                          [
                            0.4444444444444444,
                            "#bd3786"
                          ],
                          [
                            0.5555555555555556,
                            "#d8576b"
                          ],
                          [
                            0.6666666666666666,
                            "#ed7953"
                          ],
                          [
                            0.7777777777777778,
                            "#fb9f3a"
                          ],
                          [
                            0.8888888888888888,
                            "#fdca26"
                          ],
                          [
                            1,
                            "#f0f921"
                          ]
                        ],
                        "type": "histogram2dcontour"
                      }
                    ],
                    "mesh3d": [
                      {
                        "colorbar": {
                          "outlinewidth": 0,
                          "ticks": ""
                        },
                        "type": "mesh3d"
                      }
                    ],
                    "parcoords": [
                      {
                        "line": {
                          "colorbar": {
                            "outlinewidth": 0,
                            "ticks": ""
                          }
                        },
                        "type": "parcoords"
                      }
                    ],
                    "pie": [
                      {
                        "automargin": true,
                        "type": "pie"
                      }
                    ],
                    "scatter": [
                      {
                        "fillpattern": {
                          "fillmode": "overlay",
                          "size": 10,
                          "solidity": 0.2
                        },
                        "type": "scatter"
                      }
                    ],
                    "scatter3d": [
                      {
                        "line": {
                          "colorbar": {
                            "outlinewidth": 0,
                            "ticks": ""
                          }
                        },
                        "marker": {
                          "colorbar": {
                            "outlinewidth": 0,
                            "ticks": ""
                          }
                        },
                        "type": "scatter3d"
                      }
                    ],
                    "scattercarpet": [
                      {
                        "marker": {
                          "colorbar": {
                            "outlinewidth": 0,
                            "ticks": ""
                          }
                        },
                        "type": "scattercarpet"
                      }
                    ],
                    "scattergeo": [
                      {
                        "marker": {
                          "colorbar": {
                            "outlinewidth": 0,
                            "ticks": ""
                          }
                        },
                        "type": "scattergeo"
                      }
                    ],
                    "scattergl": [
                      {
                        "marker": {
                          "colorbar": {
                            "outlinewidth": 0,
                            "ticks": ""
                          }
                        },
                        "type": "scattergl"
                      }
                    ],
                    "scattermap": [
                      {
                        "marker": {
                          "colorbar": {
                            "outlinewidth": 0,
                            "ticks": ""
                          }
                        },
                        "type": "scattermap"
                      }
                    ],
                    "scattermapbox": [
                      {
                        "marker": {
                          "colorbar": {
                            "outlinewidth": 0,
                            "ticks": ""
                          }
                        },
                        "type": "scattermapbox"
                      }
                    ],
                    "scatterpolar": [
                      {
                        "marker": {
                          "colorbar": {
                            "outlinewidth": 0,
                            "ticks": ""
                          }
                        },
                        "type": "scatterpolar"
                      }
                    ],
                    "scatterpolargl": [
                      {
                        "marker": {
                          "colorbar": {
                            "outlinewidth": 0,
                            "ticks": ""
                          }
                        },
                        "type": "scatterpolargl"
                      }
                    ],
                    "scatterternary": [
                      {
                        "marker": {
                          "colorbar": {
                            "outlinewidth": 0,
                            "ticks": ""
                          }
                        },
                        "type": "scatterternary"
                      }
                    ],
                    "surface": [
                      {
                        "colorbar": {
                          "outlinewidth": 0,
                          "ticks": ""
                        },
                        "colorscale": [
                          [
                            0,
                            "#0d0887"
                          ],
                          [
                            0.1111111111111111,
                            "#46039f"
                          ],
                          [
                            0.2222222222222222,
                            "#7201a8"
                          ],
                          [
                            0.3333333333333333,
                            "#9c179e"
                          ],
                          [
                            0.4444444444444444,
                            "#bd3786"
                          ],
                          [
                            0.5555555555555556,
                            "#d8576b"
                          ],
                          [
                            0.6666666666666666,
                            "#ed7953"
                          ],
                          [
                            0.7777777777777778,
                            "#fb9f3a"
                          ],
                          [
                            0.8888888888888888,
                            "#fdca26"
                          ],
                          [
                            1,
                            "#f0f921"
                          ]
                        ],
                        "type": "surface"
                      }
                    ],
                    "table": [
                      {
                        "cells": {
                          "fill": {
                            "color": "#EBF0F8"
                          },
                          "line": {
                            "color": "white"
                          }
                        },
                        "header": {
                          "fill": {
                            "color": "#C8D4E3"
                          },
                          "line": {
                            "color": "white"
                          }
                        },
                        "type": "table"
                      }
                    ]
                  },
                  "layout": {
                    "annotationdefaults": {
                      "arrowcolor": "#2a3f5f",
                      "arrowhead": 0,
                      "arrowwidth": 1
                    },
                    "autotypenumbers": "strict",
                    "coloraxis": {
                      "colorbar": {
                        "outlinewidth": 0,
                        "ticks": ""
                      }
                    },
                    "colorscale": {
                      "diverging": [
                        [
                          0,
                          "#8e0152"
                        ],
                        [
                          0.1,
                          "#c51b7d"
                        ],
                        [
                          0.2,
                          "#de77ae"
                        ],
                        [
                          0.3,
                          "#f1b6da"
                        ],
                        [
                          0.4,
                          "#fde0ef"
                        ],
                        [
                          0.5,
                          "#f7f7f7"
                        ],
                        [
                          0.6,
                          "#e6f5d0"
                        ],
                        [
                          0.7,
                          "#b8e186"
                        ],
                        [
                          0.8,
                          "#7fbc41"
                        ],
                        [
                          0.9,
                          "#4d9221"
                        ],
                        [
                          1,
                          "#276419"
                        ]
                      ],
                      "sequential": [
                        [
                          0,
                          "#0d0887"
                        ],
                        [
                          0.1111111111111111,
                          "#46039f"
                        ],
                        [
                          0.2222222222222222,
                          "#7201a8"
                        ],
                        [
                          0.3333333333333333,
                          "#9c179e"
                        ],
                        [
                          0.4444444444444444,
                          "#bd3786"
                        ],
                        [
                          0.5555555555555556,
                          "#d8576b"
                        ],
                        [
                          0.6666666666666666,
                          "#ed7953"
                        ],
                        [
                          0.7777777777777778,
                          "#fb9f3a"
                        ],
                        [
                          0.8888888888888888,
                          "#fdca26"
                        ],
                        [
                          1,
                          "#f0f921"
                        ]
                      ],
                      "sequentialminus": [
                        [
                          0,
                          "#0d0887"
                        ],
                        [
                          0.1111111111111111,
                          "#46039f"
                        ],
                        [
                          0.2222222222222222,
                          "#7201a8"
                        ],
                        [
                          0.3333333333333333,
                          "#9c179e"
                        ],
                        [
                          0.4444444444444444,
                          "#bd3786"
                        ],
                        [
                          0.5555555555555556,
                          "#d8576b"
                        ],
                        [
                          0.6666666666666666,
                          "#ed7953"
                        ],
                        [
                          0.7777777777777778,
                          "#fb9f3a"
                        ],
                        [
                          0.8888888888888888,
                          "#fdca26"
                        ],
                        [
                          1,
                          "#f0f921"
                        ]
                      ]
                    },
                    "colorway": [
                      "#636efa",
                      "#EF553B",
                      "#00cc96",
                      "#ab63fa",
                      "#FFA15A",
                      "#19d3f3",
                      "#FF6692",
                      "#B6E880",
                      "#FF97FF",
                      "#FECB52"
                    ],
                    "font": {
                      "color": "#2a3f5f"
                    },
                    "geo": {
                      "bgcolor": "white",
                      "lakecolor": "white",
                      "landcolor": "#E5ECF6",
                      "showlakes": true,
                      "showland": true,
                      "subunitcolor": "white"
                    },
                    "hoverlabel": {
                      "align": "left"
                    },
                    "hovermode": "closest",
                    "mapbox": {
                      "style": "light"
                    },
                    "paper_bgcolor": "white",
                    "plot_bgcolor": "#E5ECF6",
                    "polar": {
                      "angularaxis": {
                        "gridcolor": "white",
                        "linecolor": "white",
                        "ticks": ""
                      },
                      "bgcolor": "#E5ECF6",
                      "radialaxis": {
                        "gridcolor": "white",
                        "linecolor": "white",
                        "ticks": ""
                      }
                    },
                    "scene": {
                      "xaxis": {
                        "backgroundcolor": "#E5ECF6",
                        "gridcolor": "white",
                        "gridwidth": 2,
                        "linecolor": "white",
                        "showbackground": true,
                        "ticks": "",
                        "zerolinecolor": "white"
                      },
                      "yaxis": {
                        "backgroundcolor": "#E5ECF6",
                        "gridcolor": "white",
                        "gridwidth": 2,
                        "linecolor": "white",
                        "showbackground": true,
                        "ticks": "",
                        "zerolinecolor": "white"
                      },
                      "zaxis": {
                        "backgroundcolor": "#E5ECF6",
                        "gridcolor": "white",
                        "gridwidth": 2,
                        "linecolor": "white",
                        "showbackground": true,
                        "ticks": "",
                        "zerolinecolor": "white"
                      }
                    },
                    "shapedefaults": {
                      "line": {
                        "color": "#2a3f5f"
                      }
                    },
                    "ternary": {
                      "aaxis": {
                        "gridcolor": "white",
                        "linecolor": "white",
                        "ticks": ""
                      },
                      "baxis": {
                        "gridcolor": "white",
                        "linecolor": "white",
                        "ticks": ""
                      },
                      "bgcolor": "#E5ECF6",
                      "caxis": {
                        "gridcolor": "white",
                        "linecolor": "white",
                        "ticks": ""
                      }
                    },
                    "title": {
                      "x": 0.05
                    },
                    "xaxis": {
                      "automargin": true,
                      "gridcolor": "white",
                      "linecolor": "white",
                      "ticks": "",
                      "title": {
                        "standoff": 15
                      },
                      "zerolinecolor": "white",
                      "zerolinewidth": 2
                    },
                    "yaxis": {
                      "automargin": true,
                      "gridcolor": "white",
                      "linecolor": "white",
                      "ticks": "",
                      "title": {
                        "standoff": 15
                      },
                      "zerolinecolor": "white",
                      "zerolinewidth": 2
                    }
                  }
                },
                "xaxis": {
                  "anchor": "y",
                  "domain": [
                    0,
                    1
                  ],
                  "title": {
                    "text": "recuperados"
                  }
                },
                "yaxis": {
                  "anchor": "x",
                  "domain": [
                    0,
                    1
                  ],
                  "title": {
                    "text": "count"
                  }
                }
              }
            }
          },
          "metadata": {},
          "output_type": "display_data"
        }
      ],
      "source": [
        "fig = px.bar(x = bins, y = counts, labels = {'x': 'recuperados','y': 'count'})\n",
        "fig.show()"
      ]
    },
    {
      "cell_type": "markdown",
      "metadata": {},
      "source": [
        "Pensaba en ir probando "
      ]
    },
    {
      "cell_type": "code",
      "execution_count": null,
      "metadata": {
        "colab": {
          "base_uri": "https://localhost:8080/"
        },
        "id": "8l_4AndrmKlw",
        "outputId": "ecce68d6-5eb3-4e86-d55c-1763bfc82d13"
      },
      "outputs": [
        {
          "name": "stdout",
          "output_type": "stream",
          "text": [
            "Estadístico KS: 0.2871\n",
            "Valor p: 0.0000\n",
            "❌ Rechazamos la hipótesis nula: los datos no siguen una distribución normal.\n"
          ]
        }
      ],
      "source": [
        "from scipy.stats import kstest, norm\n",
        "\n",
        "datos = df_casos['activos'].dropna()  # Asegúrate de quitar los NaN\n",
        "\n",
        "# Normalizar los datos (la prueba de KS necesita comparar con N(0,1))\n",
        "datos_normalizados = (datos - datos.mean()) / datos.std()\n",
        "\n",
        "# Prueba de Kolmogorov-Smirnov contra la normal estándar\n",
        "statistic, p_value = kstest(datos_normalizados, 'norm')\n",
        "\n",
        "# Mostrar resultados\n",
        "print(f'Estadístico KS: {statistic:.4f}')\n",
        "print(f'Valor p: {p_value:.4f}')\n",
        "\n",
        "# Interpretación\n",
        "alpha = 0.05\n",
        "if p_value < alpha:\n",
        "    print(\"❌ Rechazamos la hipótesis nula: los datos no siguen una distribución normal.\")\n",
        "else:\n",
        "    print(\"✅ No se puede rechazar la hipótesis nula: los datos podrían ser normales.\")\n"
      ]
    },
    {
      "cell_type": "code",
      "execution_count": null,
      "metadata": {
        "colab": {
          "base_uri": "https://localhost:8080/"
        },
        "id": "hJ2Zugy7n5aD",
        "outputId": "043ab22e-eb88-4e6f-b722-c0e23123966c"
      },
      "outputs": [
        {
          "name": "stdout",
          "output_type": "stream",
          "text": [
            "Estadístico Shapiro-Wilk: 0.9253\n",
            "Valor p: 0.0001\n",
            "❌ Rechazamos la hipótesis nula: los datos no siguen una distribución normal.\n"
          ]
        }
      ],
      "source": [
        "from scipy.stats import shapiro\n",
        "\n",
        "# Usamos los mismos datos que antes\n",
        "df_casos = pd.read_csv(casos_ruta_archivo)\n",
        "datos = df_casos['recuperados'].dropna()\n",
        "\n",
        "# Prueba de Shapiro-Wilk\n",
        "statistic, p_value = shapiro(datos)\n",
        "\n",
        "# Resultados\n",
        "print(f'Estadístico Shapiro-Wilk: {statistic:.4f}')\n",
        "print(f'Valor p: {p_value:.4f}')\n",
        "\n",
        "# Interpretación\n",
        "if p_value < 0.05:\n",
        "    print(\"❌ Rechazamos la hipótesis nula: los datos no siguen una distribución normal.\")\n",
        "else:\n",
        "    print(\"✅ No se puede rechazar la hipótesis nula: los datos podrían ser normales.\")\n"
      ]
    },
    {
      "cell_type": "code",
      "execution_count": null,
      "metadata": {
        "id": "p2P_PVHcoyD_"
      },
      "outputs": [],
      "source": []
    },
    {
      "cell_type": "markdown",
      "metadata": {
        "id": "S6e9EZYXs35H"
      },
      "source": [
        "# Ejercicio 2"
      ]
    },
    {
      "cell_type": "code",
      "execution_count": null,
      "metadata": {
        "id": "5VMU-uhCs5Id"
      },
      "outputs": [],
      "source": []
    },
    {
      "cell_type": "code",
      "execution_count": null,
      "metadata": {
        "colab": {
          "base_uri": "https://localhost:8080/",
          "height": 472
        },
        "id": "Y2yfbBOMs6k8",
        "outputId": "986401d1-5a2a-4e4a-96a2-065480e52222"
      },
      "outputs": [
        {
          "data": {
            "image/png": "[encoded data removed]",
            "text/plain": [
              "<Figure size 640x480 with 1 Axes>"
            ]
          },
          "metadata": {},
          "output_type": "display_data"
        }
      ],
      "source": [
        "import numpy as np\n",
        "import pandas as pd\n",
        "import matplotlib.pyplot as plt\n",
        "from sklearn.metrics import roc_curve, accuracy_score, precision_score, f1_score\n",
        "\n",
        "# 1. Generar los datos simulados\n",
        "np.random.seed(42)  # para reproducibilidad\n",
        "\n",
        "# Parámetros de las distribuciones\n",
        "N = 50\n",
        "media_A, desvio_A = 10, 4\n",
        "media_B, desvio_B = 15, 2\n",
        "\n",
        "# Muestras gaussianas\n",
        "valores_A = np.random.normal(loc=media_A, scale=desvio_A, size=N)\n",
        "valores_B = np.random.normal(loc=media_B, scale=desvio_B, size=N)\n",
        "\n",
        "# 2. Armar el DataFrame con etiquetas\n",
        "df = pd.DataFrame({\n",
        "    'Val.': np.concatenate([valores_A, valores_B]),\n",
        "    'Etiq.': ['A'] * N + ['B'] * N\n",
        "})\n",
        "\n",
        "# Mapear etiquetas a 0 y 1 para análisis binario\n",
        "df['target'] = df['Etiq.'].map({'A': 0, 'B': 1})\n",
        "\n",
        "# 3. Visualización inicial (histograma)\n",
        "plt.hist(valores_A, bins=15, alpha=0.6, label='A')\n",
        "plt.hist(valores_B, bins=15, alpha=0.6, label='B')\n",
        "plt.title(\"Distribuciones de clases A y B\")\n",
        "plt.xlabel(\"Valor\")\n",
        "plt.ylabel(\"Frecuencia\")\n",
        "plt.legend()\n",
        "plt.grid(True)\n",
        "plt.show()"
      ]
    },
    {
      "cell_type": "code",
      "execution_count": null,
      "metadata": {
        "colab": {
          "base_uri": "https://localhost:8080/",
          "height": 472
        },
        "id": "-P-rUn1BtMLt",
        "outputId": "dbae030a-0480-4b53-a212-32d801066abd"
      },
      "outputs": [
        {
          "data": {
            "image/png": "[encoded data removed]",
            "text/plain": [
              "<Figure size 640x480 with 1 Axes>"
            ]
          },
          "metadata": {},
          "output_type": "display_data"
        }
      ],
      "source": [
        "# 4. Curva ROC\n",
        "fpr, tpr, thresholds = roc_curve(df['target'], df['Val.'])\n",
        "\n",
        "plt.plot(fpr, tpr, marker='o')\n",
        "plt.plot([0, 1], [0, 1], 'k--', label='azar')\n",
        "plt.xlabel('FPR (1 - especificidad)')\n",
        "plt.ylabel('TPR (sensibilidad)')\n",
        "plt.title('Curva ROC')\n",
        "plt.legend()\n",
        "plt.grid(True)\n",
        "plt.show()"
      ]
    },
    {
      "cell_type": "code",
      "execution_count": 43,
      "metadata": {
        "colab": {
          "base_uri": "https://localhost:8080/"
        },
        "id": "3aDujFv99JeT",
        "outputId": "0ee09645-0092-4f3d-d797-2ded142740f3"
      },
      "outputs": [
        {
          "name": "stdout",
          "output_type": "stream",
          "text": [
            "[0.   0.02 0.08 0.06 0.22 0.2  0.22 0.2  0.22 0.2  0.62 0.6  0.8  0.74\n",
            " 0.78 0.74 0.76 0.68 0.7  0.56 0.58 0.  ]\n",
            "12\n",
            "13.321564953554724\n",
            "Umbral óptimo según Youden: 13.3216\n",
            "TPR: 0.9000, FPR: 0.1000\n"
          ]
        }
      ],
      "source": [
        "J = tpr - fpr\n",
        "print(J)\n",
        "indice_optimo = np.argmax(J)\n",
        "print(indice_optimo)\n",
        "umbral_optimo = thresholds[indice_optimo]\n",
        "print(umbral_optimo)\n",
        "\n",
        "print(f\"Umbral óptimo según Youden: {umbral_optimo:.4f}\")\n",
        "print(f\"TPR: {tpr[indice_optimo]:.4f}, FPR: {fpr[indice_optimo]:.4f}\")"
      ]
    },
    {
      "cell_type": "code",
      "execution_count": 44,
      "metadata": {
        "colab": {
          "base_uri": "https://localhost:8080/"
        },
        "id": "mMYZ2pu5tUEd",
        "outputId": "b8f5f6f9-75f8-4a02-dc2e-9beeb44e77f7"
      },
      "outputs": [
        {
          "name": "stdout",
          "output_type": "stream",
          "text": [
            "Exactitud (accuracy): 0.90\n",
            "Precisión: 0.90\n",
            "F1-score: 0.90\n"
          ]
        }
      ],
      "source": [
        "# 5. Elegir umbral óptimo (por ahora a mano)\n",
        "#umbral_optimo = 13.3  # podés probar diferentes valores\n",
        "\n",
        "# 6. Clasificación basada en umbral\n",
        "df['pred'] = (df['Val.'] >= umbral_optimo).astype(int)\n",
        "\n",
        "# 7. Métricas de calidad\n",
        "accuracy = accuracy_score(df['target'], df['pred'])\n",
        "precision = precision_score(df['target'], df['pred'])\n",
        "f1 = f1_score(df['target'], df['pred'])\n",
        "\n",
        "print(f\"Exactitud (accuracy): {accuracy:.2f}\")\n",
        "print(f\"Precisión: {precision:.2f}\")\n",
        "print(f\"F1-score: {f1:.2f}\")"
      ]
    },
    {
      "cell_type": "code",
      "execution_count": null,
      "metadata": {
        "colab": {
          "base_uri": "https://localhost:8080/",
          "height": 565
        },
        "id": "1fcvUoSnt9g7",
        "outputId": "162f8140-acdc-4990-b350-42f649f2a0f3"
      },
      "outputs": [
        {
          "data": {
            "image/png": "[encoded data removed]",
            "text/plain": [
              "<Figure size 1000x600 with 1 Axes>"
            ]
          },
          "metadata": {},
          "output_type": "display_data"
        }
      ],
      "source": [
        "# prompt: Quiero plotear el dataframe donde el Eje Y sean las Etiquetas A o B y en el eje X sean los valores de cada fila\n",
        "\n",
        "import matplotlib.pyplot as plt\n",
        "plt.figure(figsize=(10, 6))\n",
        "# Graficar los puntos para cada etiqueta\n",
        "plt.scatter(df[df['Etiq.'] == 'A']['Val.'], df[df['Etiq.'] == 'A']['Etiq.'], label='A', alpha=0.7)\n",
        "plt.scatter(df[df['Etiq.'] == 'B']['Val.'], df[df['Etiq.'] == 'B']['Etiq.'], label='B', alpha=0.7)\n",
        "\n",
        "plt.xlabel('Valor')\n",
        "plt.ylabel('Etiqueta')\n",
        "plt.title('Distribución de Valores por Etiqueta')\n",
        "plt.yticks(['A', 'B']) # Asegura que solo se muestren las etiquetas A y B en el eje Y\n",
        "plt.legend()\n",
        "plt.grid(True, axis='x') # Cuadrícula en el eje X para mejor lectura de valores\n",
        "plt.show()"
      ]
    }
  ],
  "metadata": {
    "colab": {
      "provenance": []
    },
    "kernelspec": {
      "display_name": "mlflow-env",
      "language": "python",
      "name": "python3"
    },
    "language_info": {
      "codemirror_mode": {
        "name": "ipython",
        "version": 3
      },
      "file_extension": ".py",
      "mimetype": "text/x-python",
      "name": "python",
      "nbconvert_exporter": "python",
      "pygments_lexer": "ipython3",
      "version": "3.9.19"
    }
  },
  "nbformat": 4,
  "nbformat_minor": 0
}
