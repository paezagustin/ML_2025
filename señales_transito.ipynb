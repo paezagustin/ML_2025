{
 "cells": [
  {
   "cell_type": "markdown",
   "metadata": {},
   "source": [
    "# Reconociendo señales de tráfico \n",
    " \n",
    "El objetivo de este proyecto es construir un modelo capaz de determinar el tipo de señal de tráfico que se muestra en una imagen capturada en diferentes condiciones de la vida real y que muestre obstrucciones, mala iluminación o incluso que la señal esté lejos de la cámara. Le proporcionamos imágenes etiquetadas ya divididas en tres archivos (entrenamiento / validación / prueba) y una lista predefinida de signos para reconocer."
   ]
  },
  {
   "cell_type": "code",
   "execution_count": null,
   "metadata": {},
   "outputs": [
    {
     "name": "stderr",
     "output_type": "stream",
     "text": [
      "  % Total    % Received % Xferd  Average Speed   Time    Time     Time  Current\n",
      "                                 Dload  Upload   Total   Spent    Left  Speed\n",
      "\n",
      "  0     0    0     0    0     0      0      0 --:--:-- --:--:-- --:--:--     0\n",
      "  0     0    0     0    0     0      0      0 --:--:--  0:00:01 --:--:--     0\n",
      "  0 30.5M    0     0    0     0      0      0 --:--:--  0:00:01 --:--:--     0\n",
      " 46 30.5M   46 14.3M    0     0  5826k      0  0:00:05  0:00:02  0:00:03 5831k\n",
      " 83 30.5M   83 25.6M    0     0  7470k      0  0:00:04  0:00:03  0:00:01 7474k\n",
      "100 30.5M  100 30.5M    0     0  7934k      0  0:00:03  0:00:03 --:--:-- 7937k\n",
      "  % Total    % Received % Xferd  Average Speed   Time    Time     Time  Current\n",
      "                                 Dload  Upload   Total   Spent    Left  Speed\n",
      "\n",
      "  0     0    0     0    0     0      0      0 --:--:-- --:--:-- --:--:--     0\n",
      "  0     0    0     0    0     0      0      0 --:--:--  0:00:01 --:--:--     0\n",
      "  0     0    0     0    0     0      0      0 --:--:--  0:00:02 --:--:--     0\n",
      "  0     0    0     0    0     0      0      0 --:--:--  0:00:03 --:--:--     0\n",
      "  0     0    0     0    0     0      0      0 --:--:--  0:00:04 --:--:--     0\n",
      "  0     0    0     0    0     0      0      0 --:--:--  0:00:05 --:--:--     0\n",
      "  0  9.8M    0     0    0     0      0      0 --:--:--  0:00:05 --:--:--     0\n",
      "100  9.8M  100  9.8M    0     0  1631k      0  0:00:06  0:00:06 --:--:-- 2559k\n",
      "  % Total    % Received % Xferd  Average Speed   Time    Time     Time  Current\n",
      "                                 Dload  Upload   Total   Spent    Left  Speed\n",
      "\n",
      "  0     0    0     0    0     0      0      0 --:--:-- --:--:-- --:--:--     0\n",
      "  4  9.8M    4  464k    0     0  1554k      0  0:00:06 --:--:--  0:00:06 1562k\n",
      " 43  9.8M   43 4366k    0     0  3363k      0  0:00:02  0:00:01  0:00:01 3366k\n",
      "100  9.8M  100  9.8M    0     0  4654k      0  0:00:02  0:00:02 --:--:-- 4660k\n"
     ]
    }
   ],
   "source": [
    "import os\n",
    "\n",
    "dataroot = \"datos/dataroot/\"\n",
    "os.makedirs(dataroot, exist_ok=True)  \n",
    "\n",
    "\n",
    "!curl -o datos/dataroot/data_1.zip https://raw.githubusercontent.com/emmanueliarussi/DataScienceCapstone/master/3_MidtermProjects/ProjectRTS/data/data_1.zip\n",
    "!curl -o datos/dataroot/data_2.zip https://raw.githubusercontent.com/emmanueliarussi/DataScienceCapstone/master/3_MidtermProjects/ProjectRTS/data/data_3.zip\n",
    "!curl -o datos/dataroot/data_3.zip https://raw.githubusercontent.com/emmanueliarussi/DataScienceCapstone/master/3_MidtermProjects/ProjectRTS/data/data_3.zip"
   ]
  },
  {
   "cell_type": "code",
   "execution_count": 3,
   "metadata": {},
   "outputs": [],
   "source": [
    "# Descomprimir \n",
    "import zipfile\n",
    "with zipfile.ZipFile(dataroot+\"data_1.zip\",\"r\") as zip_ref:\n",
    "    zip_ref.extractall(dataroot)\n",
    "with zipfile.ZipFile(dataroot+\"data_2.zip\",\"r\") as zip_ref:\n",
    "    zip_ref.extractall(dataroot)\n",
    "with zipfile.ZipFile(dataroot+\"data_3.zip\",\"r\") as zip_ref:\n",
    "    zip_ref.extractall(dataroot)"
   ]
  },
  {
   "cell_type": "code",
   "execution_count": 4,
   "metadata": {},
   "outputs": [
    {
     "data": {
      "text/plain": [
       "{0: 'Speed limit (20km/h)',\n",
       " 1: 'Speed limit (30km/h)',\n",
       " 2: 'Speed limit (50km/h)',\n",
       " 3: 'Speed limit (60km/h)',\n",
       " 4: 'Speed limit (70km/h)',\n",
       " 5: 'Speed limit (80km/h)',\n",
       " 6: 'End of speed limit (80km/h)',\n",
       " 7: 'Speed limit (100km/h)',\n",
       " 8: 'Speed limit (120km/h)',\n",
       " 9: 'No passing',\n",
       " 10: 'No passing for vehicles over 3.5 metric tons',\n",
       " 11: 'Right-of-way at the next intersection',\n",
       " 12: 'Priority road',\n",
       " 13: 'Yield',\n",
       " 14: 'Stop',\n",
       " 15: 'No vehicles',\n",
       " 16: 'Vehicles over 3.5 metric tons prohibited',\n",
       " 17: 'No entry',\n",
       " 18: 'General caution',\n",
       " 19: 'Dangerous curve to the left',\n",
       " 20: 'Dangerous curve to the right',\n",
       " 21: 'Double curve',\n",
       " 22: 'Bumpy road',\n",
       " 23: 'Slippery road',\n",
       " 24: 'Road narrows on the right',\n",
       " 25: 'Road work',\n",
       " 26: 'Traffic signals',\n",
       " 27: 'Pedestrians',\n",
       " 28: 'Children crossing',\n",
       " 29: 'Bicycles crossing',\n",
       " 30: 'Beware of ice/snow',\n",
       " 31: 'Wild animals crossing',\n",
       " 32: 'End of all speed and passing limits',\n",
       " 33: 'Turn right ahead',\n",
       " 34: 'Turn left ahead',\n",
       " 35: 'Ahead only',\n",
       " 36: 'Go straight or right',\n",
       " 37: 'Go straight or left',\n",
       " 38: 'Keep right',\n",
       " 39: 'Keep left',\n",
       " 40: 'Roundabout mandatory',\n",
       " 41: 'End of no passing',\n",
       " 42: 'End of no passing by vehicles over 3.5 metric tons'}"
      ]
     },
     "execution_count": 4,
     "metadata": {},
     "output_type": "execute_result"
    }
   ],
   "source": [
    "# Cargar nombres de las señales \n",
    "import pandas as pd\n",
    "df = pd.read_csv(\"https://raw.githubusercontent.com/emmanueliarussi/DataScienceCapstone/master/3_MidtermProjects/ProjectRTS/data/signnames.csv\")\n",
    "signnames = pd.Series(df.SignName.values,index=df.ClassId).to_dict()\n",
    "signnames"
   ]
  },
  {
   "cell_type": "code",
   "execution_count": 7,
   "metadata": {},
   "outputs": [],
   "source": [
    "# cargar las imágenes \n",
    "import pickle\n",
    "signimages = pickle.load( open( \"datos/dataroot/RTS/train.p\", \"rb\" ) )"
   ]
  },
  {
   "cell_type": "code",
   "execution_count": null,
   "metadata": {},
   "outputs": [
    {
     "name": "stdout",
     "output_type": "stream",
     "text": [
      "The image shows a Turn left ahead sign\n"
     ]
    },
    {
     "data": {
      "image/png": "[encoded data removed]",
      "text/plain": [
       "<Figure size 640x480 with 1 Axes>"
      ]
     },
     "metadata": {},
     "output_type": "display_data"
    }
   ],
   "source": [
    "# ver imagen \n",
    "import matplotlib.pyplot as plt\n",
    "import numpy as np\n",
    "import cv2\n",
    "\n",
    "inx = 20124\n",
    "plt.imshow(signimages['features'][inx])\n",
    "print(\"The image shows a {} sign\".format(signnames[signimages['labels'][inx]]))"
   ]
  },
  {
   "cell_type": "code",
   "execution_count": null,
   "metadata": {},
   "outputs": [],
   "source": []
  }
 ],
 "metadata": {
  "kernelspec": {
   "display_name": "mlflow-env",
   "language": "python",
   "name": "python3"
  },
  "language_info": {
   "codemirror_mode": {
    "name": "ipython",
    "version": 3
   },
   "file_extension": ".py",
   "mimetype": "text/x-python",
   "name": "python",
   "nbconvert_exporter": "python",
   "pygments_lexer": "ipython3",
   "version": "3.9.19"
  }
 },
 "nbformat": 4,
 "nbformat_minor": 2
}
